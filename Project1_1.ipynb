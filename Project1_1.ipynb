{
 "cells": [
  {
   "cell_type": "code",
   "execution_count": 1,
   "id": "45b446c7",
   "metadata": {},
   "outputs": [],
   "source": [
    "#Let's load all the necessary Library \n",
    "import pandas as pd\n",
    "import numpy as np\n",
    "import matplotlib.pyplot as plt\n",
    "import seaborn as sns\n",
    "%matplotlib inline"
   ]
  },
  {
   "cell_type": "code",
   "execution_count": 2,
   "id": "aecb9e02",
   "metadata": {},
   "outputs": [],
   "source": [
    "#Let's load the data\n",
    "data1 = pd.read_csv('foodhub_order.csv')"
   ]
  },
  {
   "cell_type": "code",
   "execution_count": 3,
   "id": "4b750c02",
   "metadata": {},
   "outputs": [
    {
     "data": {
      "text/html": [
       "<div>\n",
       "<style scoped>\n",
       "    .dataframe tbody tr th:only-of-type {\n",
       "        vertical-align: middle;\n",
       "    }\n",
       "\n",
       "    .dataframe tbody tr th {\n",
       "        vertical-align: top;\n",
       "    }\n",
       "\n",
       "    .dataframe thead th {\n",
       "        text-align: right;\n",
       "    }\n",
       "</style>\n",
       "<table border=\"1\" class=\"dataframe\">\n",
       "  <thead>\n",
       "    <tr style=\"text-align: right;\">\n",
       "      <th></th>\n",
       "      <th>order_id</th>\n",
       "      <th>customer_id</th>\n",
       "      <th>restaurant_name</th>\n",
       "      <th>cuisine_type</th>\n",
       "      <th>cost_of_the_order</th>\n",
       "      <th>day_of_the_week</th>\n",
       "      <th>rating</th>\n",
       "      <th>food_preparation_time</th>\n",
       "      <th>delivery_time</th>\n",
       "    </tr>\n",
       "  </thead>\n",
       "  <tbody>\n",
       "    <tr>\n",
       "      <th>0</th>\n",
       "      <td>1477147</td>\n",
       "      <td>337525</td>\n",
       "      <td>Hangawi</td>\n",
       "      <td>Korean</td>\n",
       "      <td>30.75</td>\n",
       "      <td>Weekend</td>\n",
       "      <td>Not given</td>\n",
       "      <td>25</td>\n",
       "      <td>20</td>\n",
       "    </tr>\n",
       "    <tr>\n",
       "      <th>1</th>\n",
       "      <td>1477685</td>\n",
       "      <td>358141</td>\n",
       "      <td>Blue Ribbon Sushi Izakaya</td>\n",
       "      <td>Japanese</td>\n",
       "      <td>12.08</td>\n",
       "      <td>Weekend</td>\n",
       "      <td>Not given</td>\n",
       "      <td>25</td>\n",
       "      <td>23</td>\n",
       "    </tr>\n",
       "    <tr>\n",
       "      <th>2</th>\n",
       "      <td>1477070</td>\n",
       "      <td>66393</td>\n",
       "      <td>Cafe Habana</td>\n",
       "      <td>Mexican</td>\n",
       "      <td>12.23</td>\n",
       "      <td>Weekday</td>\n",
       "      <td>5</td>\n",
       "      <td>23</td>\n",
       "      <td>28</td>\n",
       "    </tr>\n",
       "    <tr>\n",
       "      <th>3</th>\n",
       "      <td>1477334</td>\n",
       "      <td>106968</td>\n",
       "      <td>Blue Ribbon Fried Chicken</td>\n",
       "      <td>American</td>\n",
       "      <td>29.20</td>\n",
       "      <td>Weekend</td>\n",
       "      <td>3</td>\n",
       "      <td>25</td>\n",
       "      <td>15</td>\n",
       "    </tr>\n",
       "    <tr>\n",
       "      <th>4</th>\n",
       "      <td>1478249</td>\n",
       "      <td>76942</td>\n",
       "      <td>Dirty Bird to Go</td>\n",
       "      <td>American</td>\n",
       "      <td>11.59</td>\n",
       "      <td>Weekday</td>\n",
       "      <td>4</td>\n",
       "      <td>25</td>\n",
       "      <td>24</td>\n",
       "    </tr>\n",
       "  </tbody>\n",
       "</table>\n",
       "</div>"
      ],
      "text/plain": [
       "   order_id  customer_id            restaurant_name cuisine_type  \\\n",
       "0   1477147       337525                    Hangawi       Korean   \n",
       "1   1477685       358141  Blue Ribbon Sushi Izakaya     Japanese   \n",
       "2   1477070        66393                Cafe Habana      Mexican   \n",
       "3   1477334       106968  Blue Ribbon Fried Chicken     American   \n",
       "4   1478249        76942           Dirty Bird to Go     American   \n",
       "\n",
       "   cost_of_the_order day_of_the_week     rating  food_preparation_time  \\\n",
       "0              30.75         Weekend  Not given                     25   \n",
       "1              12.08         Weekend  Not given                     25   \n",
       "2              12.23         Weekday          5                     23   \n",
       "3              29.20         Weekend          3                     25   \n",
       "4              11.59         Weekday          4                     25   \n",
       "\n",
       "   delivery_time  \n",
       "0             20  \n",
       "1             23  \n",
       "2             28  \n",
       "3             15  \n",
       "4             24  "
      ]
     },
     "execution_count": 3,
     "metadata": {},
     "output_type": "execute_result"
    }
   ],
   "source": [
    "data1.head()"
   ]
  },
  {
   "cell_type": "code",
   "execution_count": 4,
   "id": "757332d6",
   "metadata": {},
   "outputs": [
    {
     "data": {
      "text/plain": [
       "(1898, 9)"
      ]
     },
     "execution_count": 4,
     "metadata": {},
     "output_type": "execute_result"
    }
   ],
   "source": [
    "data1.shape   #Let's get information about the columns and rows in the data"
   ]
  },
  {
   "cell_type": "markdown",
   "id": "6ea90fb1",
   "metadata": {},
   "source": [
    "\n",
    "Observations#1: The data has 9 columns, and 1898 rows which all correspond to a specific order ID.\n"
   ]
  },
  {
   "cell_type": "code",
   "execution_count": 5,
   "id": "7c2c6166",
   "metadata": {},
   "outputs": [
    {
     "name": "stdout",
     "output_type": "stream",
     "text": [
      "<class 'pandas.core.frame.DataFrame'>\n",
      "RangeIndex: 1898 entries, 0 to 1897\n",
      "Data columns (total 9 columns):\n",
      " #   Column                 Non-Null Count  Dtype  \n",
      "---  ------                 --------------  -----  \n",
      " 0   order_id               1898 non-null   int64  \n",
      " 1   customer_id            1898 non-null   int64  \n",
      " 2   restaurant_name        1898 non-null   object \n",
      " 3   cuisine_type           1898 non-null   object \n",
      " 4   cost_of_the_order      1898 non-null   float64\n",
      " 5   day_of_the_week        1898 non-null   object \n",
      " 6   rating                 1898 non-null   object \n",
      " 7   food_preparation_time  1898 non-null   int64  \n",
      " 8   delivery_time          1898 non-null   int64  \n",
      "dtypes: float64(1), int64(4), object(4)\n",
      "memory usage: 133.6+ KB\n"
     ]
    }
   ],
   "source": [
    "data1.info()  #Information about the columns and the data they contain"
   ]
  },
  {
   "cell_type": "code",
   "execution_count": 6,
   "id": "cdbc36c3",
   "metadata": {},
   "outputs": [
    {
     "data": {
      "text/plain": [
       "order_id                 0\n",
       "customer_id              0\n",
       "restaurant_name          0\n",
       "cuisine_type             0\n",
       "cost_of_the_order        0\n",
       "day_of_the_week          0\n",
       "rating                   0\n",
       "food_preparation_time    0\n",
       "delivery_time            0\n",
       "dtype: int64"
      ]
     },
     "execution_count": 6,
     "metadata": {},
     "output_type": "execute_result"
    }
   ],
   "source": [
    "data1.isnull().sum()  #Checking if there is any missing data"
   ]
  },
  {
   "cell_type": "markdown",
   "id": "e9edc9d0",
   "metadata": {},
   "source": [
    "Observation#2: the data type of the columns in the dataset goes as follow.\n",
    "order_id has intergers data type\n",
    "customer_id has intergers data type\n",
    "restaurant_name has objects data type\n",
    "cusine_type has object data type\n",
    "cost_of_the_order has float data type\n",
    "day_of_the_week has object data type\n",
    "rating has object data type\n",
    "food_preparation_time has has interger data type\n",
    "delivery_time has interger data type\n",
    " in total there is one column that has float data type, four columns have interger data type, and four columns have object data type.\n",
    "     The dataset does not have any missing data, therefore we will not be dropping any data."
   ]
  },
  {
   "cell_type": "code",
   "execution_count": 7,
   "id": "0242575f",
   "metadata": {},
   "outputs": [],
   "source": [
    "#Now let's turn the columns that have object has data type into category"
   ]
  },
  {
   "cell_type": "code",
   "execution_count": 8,
   "id": "aa5908e2",
   "metadata": {},
   "outputs": [],
   "source": [
    "data1['restaurant_name'] = data1.restaurant_name.astype('category')\n",
    "data1['day_of_the_week'] = data1.day_of_the_week.astype('category')\n",
    "data1['rating'] = data1.rating.astype('category')"
   ]
  },
  {
   "cell_type": "code",
   "execution_count": 9,
   "id": "c7d7ef8d",
   "metadata": {},
   "outputs": [],
   "source": [
    "data1['cuisine_type'] = data1.cuisine_type.astype('category')"
   ]
  },
  {
   "cell_type": "code",
   "execution_count": 10,
   "id": "959f4475",
   "metadata": {},
   "outputs": [
    {
     "name": "stdout",
     "output_type": "stream",
     "text": [
      "<class 'pandas.core.frame.DataFrame'>\n",
      "RangeIndex: 1898 entries, 0 to 1897\n",
      "Data columns (total 9 columns):\n",
      " #   Column                 Non-Null Count  Dtype   \n",
      "---  ------                 --------------  -----   \n",
      " 0   order_id               1898 non-null   int64   \n",
      " 1   customer_id            1898 non-null   int64   \n",
      " 2   restaurant_name        1898 non-null   category\n",
      " 3   cuisine_type           1898 non-null   category\n",
      " 4   cost_of_the_order      1898 non-null   float64 \n",
      " 5   day_of_the_week        1898 non-null   category\n",
      " 6   rating                 1898 non-null   category\n",
      " 7   food_preparation_time  1898 non-null   int64   \n",
      " 8   delivery_time          1898 non-null   int64   \n",
      "dtypes: category(4), float64(1), int64(4)\n",
      "memory usage: 90.0 KB\n"
     ]
    }
   ],
   "source": [
    "data1.info()"
   ]
  },
  {
   "cell_type": "markdown",
   "id": "42e1b301",
   "metadata": {},
   "source": [
    "Observation#3: Now we have converted all the object data type into category data type to reduce memory usage in the computer. This has reduced the memory usage by apromaxitively 43.6 KB"
   ]
  },
  {
   "cell_type": "code",
   "execution_count": 11,
   "id": "b50f6b1c",
   "metadata": {},
   "outputs": [
    {
     "data": {
      "text/html": [
       "<div>\n",
       "<style scoped>\n",
       "    .dataframe tbody tr th:only-of-type {\n",
       "        vertical-align: middle;\n",
       "    }\n",
       "\n",
       "    .dataframe tbody tr th {\n",
       "        vertical-align: top;\n",
       "    }\n",
       "\n",
       "    .dataframe thead th {\n",
       "        text-align: right;\n",
       "    }\n",
       "</style>\n",
       "<table border=\"1\" class=\"dataframe\">\n",
       "  <thead>\n",
       "    <tr style=\"text-align: right;\">\n",
       "      <th></th>\n",
       "      <th>order_id</th>\n",
       "      <th>customer_id</th>\n",
       "      <th>cost_of_the_order</th>\n",
       "      <th>food_preparation_time</th>\n",
       "      <th>delivery_time</th>\n",
       "    </tr>\n",
       "  </thead>\n",
       "  <tbody>\n",
       "    <tr>\n",
       "      <th>count</th>\n",
       "      <td>1.898000e+03</td>\n",
       "      <td>1898.000000</td>\n",
       "      <td>1898.000000</td>\n",
       "      <td>1898.000000</td>\n",
       "      <td>1898.000000</td>\n",
       "    </tr>\n",
       "    <tr>\n",
       "      <th>mean</th>\n",
       "      <td>1.477496e+06</td>\n",
       "      <td>171168.478398</td>\n",
       "      <td>16.498851</td>\n",
       "      <td>27.371970</td>\n",
       "      <td>24.161749</td>\n",
       "    </tr>\n",
       "    <tr>\n",
       "      <th>std</th>\n",
       "      <td>5.480497e+02</td>\n",
       "      <td>113698.139743</td>\n",
       "      <td>7.483812</td>\n",
       "      <td>4.632481</td>\n",
       "      <td>4.972637</td>\n",
       "    </tr>\n",
       "    <tr>\n",
       "      <th>min</th>\n",
       "      <td>1.476547e+06</td>\n",
       "      <td>1311.000000</td>\n",
       "      <td>4.470000</td>\n",
       "      <td>20.000000</td>\n",
       "      <td>15.000000</td>\n",
       "    </tr>\n",
       "    <tr>\n",
       "      <th>25%</th>\n",
       "      <td>1.477021e+06</td>\n",
       "      <td>77787.750000</td>\n",
       "      <td>12.080000</td>\n",
       "      <td>23.000000</td>\n",
       "      <td>20.000000</td>\n",
       "    </tr>\n",
       "    <tr>\n",
       "      <th>50%</th>\n",
       "      <td>1.477496e+06</td>\n",
       "      <td>128600.000000</td>\n",
       "      <td>14.140000</td>\n",
       "      <td>27.000000</td>\n",
       "      <td>25.000000</td>\n",
       "    </tr>\n",
       "    <tr>\n",
       "      <th>75%</th>\n",
       "      <td>1.477970e+06</td>\n",
       "      <td>270525.000000</td>\n",
       "      <td>22.297500</td>\n",
       "      <td>31.000000</td>\n",
       "      <td>28.000000</td>\n",
       "    </tr>\n",
       "    <tr>\n",
       "      <th>max</th>\n",
       "      <td>1.478444e+06</td>\n",
       "      <td>405334.000000</td>\n",
       "      <td>35.410000</td>\n",
       "      <td>35.000000</td>\n",
       "      <td>33.000000</td>\n",
       "    </tr>\n",
       "  </tbody>\n",
       "</table>\n",
       "</div>"
      ],
      "text/plain": [
       "           order_id    customer_id  cost_of_the_order  food_preparation_time  \\\n",
       "count  1.898000e+03    1898.000000        1898.000000            1898.000000   \n",
       "mean   1.477496e+06  171168.478398          16.498851              27.371970   \n",
       "std    5.480497e+02  113698.139743           7.483812               4.632481   \n",
       "min    1.476547e+06    1311.000000           4.470000              20.000000   \n",
       "25%    1.477021e+06   77787.750000          12.080000              23.000000   \n",
       "50%    1.477496e+06  128600.000000          14.140000              27.000000   \n",
       "75%    1.477970e+06  270525.000000          22.297500              31.000000   \n",
       "max    1.478444e+06  405334.000000          35.410000              35.000000   \n",
       "\n",
       "       delivery_time  \n",
       "count    1898.000000  \n",
       "mean       24.161749  \n",
       "std         4.972637  \n",
       "min        15.000000  \n",
       "25%        20.000000  \n",
       "50%        25.000000  \n",
       "75%        28.000000  \n",
       "max        33.000000  "
      ]
     },
     "execution_count": 11,
     "metadata": {},
     "output_type": "execute_result"
    }
   ],
   "source": [
    "data1.describe() #The statistical information about the data"
   ]
  },
  {
   "cell_type": "markdown",
   "id": "ef7dfd35",
   "metadata": {},
   "source": [
    "Observation#4: The minimum time it takes for food to be prepared once an order is placed is 20.000000\n",
    "The average time for food to be prepared is 27.371970\n",
    "the maximum time for food to be prepared is 35.000000"
   ]
  },
  {
   "cell_type": "code",
   "execution_count": 12,
   "id": "94e18618",
   "metadata": {},
   "outputs": [],
   "source": [
    "#Finding how many orders have not been rated"
   ]
  },
  {
   "cell_type": "code",
   "execution_count": 13,
   "id": "c4d05477",
   "metadata": {},
   "outputs": [
    {
     "data": {
      "text/html": [
       "<div>\n",
       "<style scoped>\n",
       "    .dataframe tbody tr th:only-of-type {\n",
       "        vertical-align: middle;\n",
       "    }\n",
       "\n",
       "    .dataframe tbody tr th {\n",
       "        vertical-align: top;\n",
       "    }\n",
       "\n",
       "    .dataframe thead th {\n",
       "        text-align: right;\n",
       "    }\n",
       "</style>\n",
       "<table border=\"1\" class=\"dataframe\">\n",
       "  <thead>\n",
       "    <tr style=\"text-align: right;\">\n",
       "      <th></th>\n",
       "      <th>restaurant_name</th>\n",
       "      <th>cuisine_type</th>\n",
       "      <th>day_of_the_week</th>\n",
       "      <th>rating</th>\n",
       "    </tr>\n",
       "  </thead>\n",
       "  <tbody>\n",
       "    <tr>\n",
       "      <th>count</th>\n",
       "      <td>1898</td>\n",
       "      <td>1898</td>\n",
       "      <td>1898</td>\n",
       "      <td>1898</td>\n",
       "    </tr>\n",
       "    <tr>\n",
       "      <th>unique</th>\n",
       "      <td>178</td>\n",
       "      <td>14</td>\n",
       "      <td>2</td>\n",
       "      <td>4</td>\n",
       "    </tr>\n",
       "    <tr>\n",
       "      <th>top</th>\n",
       "      <td>Shake Shack</td>\n",
       "      <td>American</td>\n",
       "      <td>Weekend</td>\n",
       "      <td>Not given</td>\n",
       "    </tr>\n",
       "    <tr>\n",
       "      <th>freq</th>\n",
       "      <td>219</td>\n",
       "      <td>584</td>\n",
       "      <td>1351</td>\n",
       "      <td>736</td>\n",
       "    </tr>\n",
       "  </tbody>\n",
       "</table>\n",
       "</div>"
      ],
      "text/plain": [
       "       restaurant_name cuisine_type day_of_the_week     rating\n",
       "count             1898         1898            1898       1898\n",
       "unique             178           14               2          4\n",
       "top        Shake Shack     American         Weekend  Not given\n",
       "freq               219          584            1351        736"
      ]
     },
     "execution_count": 13,
     "metadata": {},
     "output_type": "execute_result"
    }
   ],
   "source": [
    "data1.describe(exclude= 'number')"
   ]
  },
  {
   "cell_type": "code",
   "execution_count": 14,
   "id": "66e5f7a4",
   "metadata": {},
   "outputs": [
    {
     "data": {
      "text/plain": [
       "Not given    736\n",
       "5            588\n",
       "4            386\n",
       "3            188\n",
       "Name: rating, dtype: int64"
      ]
     },
     "execution_count": 14,
     "metadata": {},
     "output_type": "execute_result"
    }
   ],
   "source": [
    "data1['rating'].value_counts()"
   ]
  },
  {
   "cell_type": "markdown",
   "id": "c0b18a06",
   "metadata": {},
   "source": [
    "Observation#5: In the dataset there are 736 orders that have not been rated."
   ]
  },
  {
   "cell_type": "markdown",
   "id": "81fd9b40",
   "metadata": {},
   "source": [
    "Rating"
   ]
  },
  {
   "cell_type": "code",
   "execution_count": 15,
   "id": "95ee7ed7",
   "metadata": {},
   "outputs": [],
   "source": [
    "def histogram_boxplot(data, feature, figsize=(12, 7), kde=False, bins=None):\n",
    "    f2, (ax_box2, ax_hist2) = plt.subplots(nrows=2,  #specifying the number of rows of the subplot\n",
    "                                           sharex=True, #Sharing the X-axiz for all subplots\n",
    "                                           gridspec_kw={'height_ratios': (0.25, 0.75)}, \n",
    "                                           figsize=figsize)\n",
    "    #Now let's create the 2 subplots\n",
    "    sns.boxplot(data=data,\n",
    "                x=feature, \n",
    "                ax=ax_box2, \n",
    "                showmeans=True, \n",
    "                color=\"violet\") \n",
    "    sns.histplot(data=data, x=feature, kde=kde, ax=ax_hist2, bins=bins, palette= 'winter')\n",
    "    ax_hist2.axvline(data[feature].mean(), color='green', linestyle='--')\n",
    "    ax_hist2.axvline(data[feature].median(), color= 'black', linestyle='-')"
   ]
  },
  {
   "cell_type": "code",
   "execution_count": 16,
   "id": "b4e28434",
   "metadata": {},
   "outputs": [],
   "source": [
    "def labeled_barplot(data, feature, perc=False, n=None):\n",
    "    \"\"\"\n",
    "    Barplot with percentage at the top\n",
    "\n",
    "    data: dataframe\n",
    "    feature: dataframe column\n",
    "    perc: whether to display percentages instead of count (default is False)\n",
    "    n: displays the top n category levels (default is None, i.e., display all levels)\n",
    "    \"\"\"\n",
    "\n",
    "    total = len(data[feature])  # lets get the lenght of the column\n",
    "    count = data[feature].nunique()\n",
    "    if n is None:\n",
    "        plt.figure(figsize=(count + 1, 5))\n",
    "    else:\n",
    "        plt.figure(figsize=(n + 1, 5))\n",
    "\n",
    "    plt.xticks(rotation=90, fontsize=15)\n",
    "    ax = sns.countplot(\n",
    "        data=data,\n",
    "        x=feature,\n",
    "        palette=\"Paired\",\n",
    "        order=data[feature].value_counts().index[:n].sort_values(),\n",
    "    )\n",
    "\n",
    "    for p in ax.patches:\n",
    "        if perc == True:\n",
    "            label = \"{:.1f}%\".format(\n",
    "                100 * p.get_height() / total\n",
    "            )  # percentage of each class of the category\n",
    "        else:\n",
    "            label = p.get_height()  # count of each level of the category\n",
    "\n",
    "        x = p.get_x() + p.get_width() / 2  # width of the plot\n",
    "        y = p.get_height()  # height of the plot\n",
    "\n",
    "        ax.annotate(\n",
    "            label,\n",
    "            (x, y),\n",
    "            ha=\"center\",\n",
    "            va=\"center\",\n",
    "            size=12,\n",
    "            xytext=(0, 5),\n",
    "            textcoords=\"offset points\",\n",
    "        )  # annotate the percentage\n",
    "\n",
    "    plt.show()  # show the plot"
   ]
  },
  {
   "cell_type": "code",
   "execution_count": 17,
   "id": "5349fd4f",
   "metadata": {},
   "outputs": [],
   "source": [
    "#Univariate analysis for Cost of the order"
   ]
  },
  {
   "cell_type": "code",
   "execution_count": 18,
   "id": "5fc89c04",
   "metadata": {
    "scrolled": true
   },
   "outputs": [
    {
     "data": {
      "image/png": "[encoded data removed]",
      "text/plain": [
       "<Figure size 864x504 with 2 Axes>"
      ]
     },
     "metadata": {
      "needs_background": "light"
     },
     "output_type": "display_data"
    }
   ],
   "source": [
    "histogram_boxplot(data1, 'cost_of_the_order',bins=10)"
   ]
  },
  {
   "cell_type": "markdown",
   "id": "aa596458",
   "metadata": {},
   "source": [
    "Observation#6.1: Cost of the oders in the data is slightly right skewed, most of the orders bought cost less than 20 dollars."
   ]
  },
  {
   "cell_type": "code",
   "execution_count": 19,
   "id": "7e79ca7b",
   "metadata": {},
   "outputs": [],
   "source": [
    "#univariate analysis for day of the week"
   ]
  },
  {
   "cell_type": "code",
   "execution_count": 20,
   "id": "dfb77582",
   "metadata": {},
   "outputs": [
    {
     "data": {
      "text/plain": [
       "['Weekend', 'Weekday']\n",
       "Categories (2, object): ['Weekend', 'Weekday']"
      ]
     },
     "execution_count": 20,
     "metadata": {},
     "output_type": "execute_result"
    }
   ],
   "source": [
    "data1['day_of_the_week'].unique()"
   ]
  },
  {
   "cell_type": "code",
   "execution_count": 21,
   "id": "f06a8e56",
   "metadata": {},
   "outputs": [
    {
     "data": {
      "image/png": "[encoded data removed]",
      "text/plain": [
       "<Figure size 216x360 with 1 Axes>"
      ]
     },
     "metadata": {
      "needs_background": "light"
     },
     "output_type": "display_data"
    }
   ],
   "source": [
    "labeled_barplot(data1, 'day_of_the_week')"
   ]
  },
  {
   "cell_type": "markdown",
   "id": "4cbf0b4a",
   "metadata": {},
   "source": [
    "Observation#6.2: Most of the orders are placed on the weekend, there are 1351 ordes placed on the weekend compared to 547 orders on weekdays."
   ]
  },
  {
   "cell_type": "code",
   "execution_count": 22,
   "id": "d959ce15",
   "metadata": {},
   "outputs": [],
   "source": [
    "#univariate analysis for cuisine type"
   ]
  },
  {
   "cell_type": "code",
   "execution_count": 23,
   "id": "be8d93db",
   "metadata": {},
   "outputs": [
    {
     "data": {
      "text/plain": [
       "['Korean', 'Japanese', 'Mexican', 'American', 'Indian', ..., 'Thai', 'Southern', 'French', 'Spanish', 'Vietnamese']\n",
       "Length: 14\n",
       "Categories (14, object): ['Korean', 'Japanese', 'Mexican', 'American', ..., 'Southern', 'French', 'Spanish', 'Vietnamese']"
      ]
     },
     "execution_count": 23,
     "metadata": {},
     "output_type": "execute_result"
    }
   ],
   "source": [
    "data1['cuisine_type'].unique()"
   ]
  },
  {
   "cell_type": "code",
   "execution_count": 24,
   "id": "7e60ad77",
   "metadata": {},
   "outputs": [
    {
     "data": {
      "text/html": [
       "<div>\n",
       "<style scoped>\n",
       "    .dataframe tbody tr th:only-of-type {\n",
       "        vertical-align: middle;\n",
       "    }\n",
       "\n",
       "    .dataframe tbody tr th {\n",
       "        vertical-align: top;\n",
       "    }\n",
       "\n",
       "    .dataframe thead th {\n",
       "        text-align: right;\n",
       "    }\n",
       "</style>\n",
       "<table border=\"1\" class=\"dataframe\">\n",
       "  <thead>\n",
       "    <tr style=\"text-align: right;\">\n",
       "      <th></th>\n",
       "      <th>Column_Name</th>\n",
       "      <th>Num_Unique</th>\n",
       "    </tr>\n",
       "  </thead>\n",
       "  <tbody>\n",
       "    <tr>\n",
       "      <th>5</th>\n",
       "      <td>day_of_the_week</td>\n",
       "      <td>2</td>\n",
       "    </tr>\n",
       "    <tr>\n",
       "      <th>6</th>\n",
       "      <td>rating</td>\n",
       "      <td>4</td>\n",
       "    </tr>\n",
       "    <tr>\n",
       "      <th>3</th>\n",
       "      <td>cuisine_type</td>\n",
       "      <td>14</td>\n",
       "    </tr>\n",
       "    <tr>\n",
       "      <th>7</th>\n",
       "      <td>food_preparation_time</td>\n",
       "      <td>16</td>\n",
       "    </tr>\n",
       "    <tr>\n",
       "      <th>8</th>\n",
       "      <td>delivery_time</td>\n",
       "      <td>19</td>\n",
       "    </tr>\n",
       "    <tr>\n",
       "      <th>2</th>\n",
       "      <td>restaurant_name</td>\n",
       "      <td>178</td>\n",
       "    </tr>\n",
       "    <tr>\n",
       "      <th>4</th>\n",
       "      <td>cost_of_the_order</td>\n",
       "      <td>312</td>\n",
       "    </tr>\n",
       "    <tr>\n",
       "      <th>1</th>\n",
       "      <td>customer_id</td>\n",
       "      <td>1200</td>\n",
       "    </tr>\n",
       "    <tr>\n",
       "      <th>0</th>\n",
       "      <td>order_id</td>\n",
       "      <td>1898</td>\n",
       "    </tr>\n",
       "  </tbody>\n",
       "</table>\n",
       "</div>"
      ],
      "text/plain": [
       "             Column_Name  Num_Unique\n",
       "5        day_of_the_week           2\n",
       "6                 rating           4\n",
       "3           cuisine_type          14\n",
       "7  food_preparation_time          16\n",
       "8          delivery_time          19\n",
       "2        restaurant_name         178\n",
       "4      cost_of_the_order         312\n",
       "1            customer_id        1200\n",
       "0               order_id        1898"
      ]
     },
     "execution_count": 24,
     "metadata": {},
     "output_type": "execute_result"
    }
   ],
   "source": [
    "pd.DataFrame.from_records([(col, data1[col].nunique()) for col in data1.columns],\n",
    "                          columns=['Column_Name', 'Num_Unique']).sort_values(by=['Num_Unique'])"
   ]
  },
  {
   "cell_type": "code",
   "execution_count": 25,
   "id": "ed8eb828",
   "metadata": {
    "scrolled": true
   },
   "outputs": [
    {
     "data": {
      "image/png": "[encoded data removed]",
      "text/plain": [
       "<Figure size 1080x360 with 1 Axes>"
      ]
     },
     "metadata": {
      "needs_background": "light"
     },
     "output_type": "display_data"
    }
   ],
   "source": [
    "labeled_barplot(data1, 'cuisine_type', perc=True)"
   ]
  },
  {
   "cell_type": "markdown",
   "id": "d09a72ff",
   "metadata": {},
   "source": [
    "Observation#6.3: American food is the most ordered cusine type, and vietnamese cusine type is the least ordered cusine type."
   ]
  },
  {
   "cell_type": "code",
   "execution_count": 26,
   "id": "f57dde6d",
   "metadata": {},
   "outputs": [],
   "source": [
    "#Univariate analysis for rating"
   ]
  },
  {
   "cell_type": "code",
   "execution_count": 27,
   "id": "c3824234",
   "metadata": {},
   "outputs": [
    {
     "data": {
      "text/plain": [
       "['Not given', '5', '3', '4']\n",
       "Categories (4, object): ['Not given', '5', '3', '4']"
      ]
     },
     "execution_count": 27,
     "metadata": {},
     "output_type": "execute_result"
    }
   ],
   "source": [
    "data1['rating'].unique()"
   ]
  },
  {
   "cell_type": "code",
   "execution_count": 28,
   "id": "1b9cdff0",
   "metadata": {},
   "outputs": [
    {
     "data": {
      "image/png": "[encoded data removed]",
      "text/plain": [
       "<Figure size 360x360 with 1 Axes>"
      ]
     },
     "metadata": {
      "needs_background": "light"
     },
     "output_type": "display_data"
    }
   ],
   "source": [
    "labeled_barplot(data1, \"rating\")"
   ]
  },
  {
   "cell_type": "markdown",
   "id": "686211f6",
   "metadata": {},
   "source": [
    "Observation#6.4: There have been 736 non rated ordered out of 1898 orders. There are 588 orders that have 5 as rating. There are 386 orders that have 4 as rating. and 188 orders that have 3 as their rating."
   ]
  },
  {
   "cell_type": "code",
   "execution_count": 29,
   "id": "2b23a65e",
   "metadata": {},
   "outputs": [],
   "source": [
    "#Univariate Analysis for food preparation time"
   ]
  },
  {
   "cell_type": "code",
   "execution_count": 30,
   "id": "87eed596",
   "metadata": {},
   "outputs": [
    {
     "data": {
      "image/png": "[encoded data removed]",
      "text/plain": [
       "<Figure size 864x504 with 2 Axes>"
      ]
     },
     "metadata": {
      "needs_background": "light"
     },
     "output_type": "display_data"
    }
   ],
   "source": [
    "histogram_boxplot(data1, \"food_preparation_time\", bins=100)"
   ]
  },
  {
   "cell_type": "markdown",
   "id": "259bb567",
   "metadata": {},
   "source": [
    "Observation#6.5: The food preparation time is slightly normally distribuated. no skewness could be observed."
   ]
  },
  {
   "cell_type": "code",
   "execution_count": 31,
   "id": "22a08bd3",
   "metadata": {},
   "outputs": [],
   "source": [
    "#Univariate analysis for delivery time"
   ]
  },
  {
   "cell_type": "code",
   "execution_count": 32,
   "id": "fd508dbc",
   "metadata": {
    "scrolled": false
   },
   "outputs": [
    {
     "data": {
      "image/png": "[encoded data removed]",
      "text/plain": [
       "<Figure size 864x504 with 2 Axes>"
      ]
     },
     "metadata": {
      "needs_background": "light"
     },
     "output_type": "display_data"
    }
   ],
   "source": [
    "histogram_boxplot(data1, \"delivery_time\", bins=10)"
   ]
  },
  {
   "cell_type": "markdown",
   "id": "0850c14e",
   "metadata": {},
   "source": [
    "Observation#6.6: The delivery time data is left skewed, most restaurants take more than average to deliver to the customers."
   ]
  },
  {
   "cell_type": "code",
   "execution_count": 33,
   "id": "7a01e9be",
   "metadata": {},
   "outputs": [],
   "source": [
    "#Let's find the top 5 restaurants in term of number of orders received"
   ]
  },
  {
   "cell_type": "code",
   "execution_count": 34,
   "id": "6c17d1c5",
   "metadata": {},
   "outputs": [
    {
     "data": {
      "text/plain": [
       "Shake Shack                  219\n",
       "The Meatball Shop            132\n",
       "Blue Ribbon Sushi            119\n",
       "Blue Ribbon Fried Chicken     96\n",
       "Parm                          68\n",
       "                            ... \n",
       "Klong                          1\n",
       "Kambi Ramen House              1\n",
       "Il Bambino                     1\n",
       "Hunan Manor                    1\n",
       "Lamarca Pasta                  1\n",
       "Name: restaurant_name, Length: 178, dtype: int64"
      ]
     },
     "execution_count": 34,
     "metadata": {},
     "output_type": "execute_result"
    }
   ],
   "source": [
    "data1[\"restaurant_name\"].value_counts()"
   ]
  },
  {
   "cell_type": "markdown",
   "id": "7d881fa4",
   "metadata": {},
   "source": [
    "Observations#7: the top5 restaurants are \n",
    "Shake Shack                  \n",
    "The Meatball Shop            \n",
    "Blue Ribbon Sushi            \n",
    "Blue Ribbon Fried Chicken     \n",
    "Parm                          "
   ]
  },
  {
   "cell_type": "code",
   "execution_count": 35,
   "id": "18b7066d",
   "metadata": {},
   "outputs": [],
   "source": [
    "#Lets find the most popular cusine type during the weekend"
   ]
  },
  {
   "cell_type": "code",
   "execution_count": 36,
   "id": "a06b48f3",
   "metadata": {},
   "outputs": [],
   "source": [
    "data1_weekend = data1[data1['day_of_the_week'] == 'Weekend']"
   ]
  },
  {
   "cell_type": "code",
   "execution_count": 37,
   "id": "d1caf1fb",
   "metadata": {
    "scrolled": true
   },
   "outputs": [
    {
     "data": {
      "text/plain": [
       "American          415\n",
       "Japanese          335\n",
       "Italian           207\n",
       "Chinese           163\n",
       "Mexican            53\n",
       "Indian             49\n",
       "Mediterranean      32\n",
       "Middle Eastern     32\n",
       "Thai               15\n",
       "French             13\n",
       "Korean             11\n",
       "Southern           11\n",
       "Spanish            11\n",
       "Vietnamese          4\n",
       "Name: cuisine_type, dtype: int64"
      ]
     },
     "execution_count": 37,
     "metadata": {},
     "output_type": "execute_result"
    }
   ],
   "source": [
    "data1_weekend['cuisine_type'].value_counts()"
   ]
  },
  {
   "cell_type": "markdown",
   "id": "2f0aacb0",
   "metadata": {},
   "source": [
    " Obeservation#8: American cuisine type is the most popular on weekends. with 415 orders in the weekend."
   ]
  },
  {
   "cell_type": "code",
   "execution_count": 38,
   "id": "c985f285",
   "metadata": {},
   "outputs": [],
   "source": [
    "#Let's find the percentage of order that are more than 20 dollars"
   ]
  },
  {
   "cell_type": "code",
   "execution_count": 39,
   "id": "1a31f62f",
   "metadata": {},
   "outputs": [
    {
     "name": "stdout",
     "output_type": "stream",
     "text": [
      "the number of total orders that cost above 20 dollars is: 555\n"
     ]
    }
   ],
   "source": [
    "data1_greater_than_20 = data1[data1['cost_of_the_order']>20]\n",
    "print('the number of total orders that cost above 20 dollars is:', data1_greater_than_20.shape[0])"
   ]
  },
  {
   "cell_type": "code",
   "execution_count": 40,
   "id": "dc4d931f",
   "metadata": {},
   "outputs": [
    {
     "name": "stdout",
     "output_type": "stream",
     "text": [
      "percentage of orders above 20 dollars: 29.24 %\n"
     ]
    }
   ],
   "source": [
    "percentage = (data1_greater_than_20.shape[0] / data1.shape[0])*100\n",
    "print('percentage of orders above 20 dollars:', round(percentage, 2), '%')"
   ]
  },
  {
   "cell_type": "markdown",
   "id": "d655897d",
   "metadata": {},
   "source": [
    "Observation#9: 29.24% of the total orders are above 20 dollars."
   ]
  },
  {
   "cell_type": "code",
   "execution_count": 41,
   "id": "83b6f722",
   "metadata": {},
   "outputs": [],
   "source": [
    "#Lets find the mean of delivery time"
   ]
  },
  {
   "cell_type": "code",
   "execution_count": 42,
   "id": "8fd26d91",
   "metadata": {},
   "outputs": [
    {
     "name": "stdout",
     "output_type": "stream",
     "text": [
      "the mean delivery time for the dataset is 24.16 minutes\n"
     ]
    }
   ],
   "source": [
    "mean_delivery_time = data1['delivery_time'].mean()\n",
    "print('the mean delivery time for the dataset is', round(mean_delivery_time, 2), 'minutes')"
   ]
  },
  {
   "cell_type": "markdown",
   "id": "a0c412cf",
   "metadata": {},
   "source": [
    "Observation#10: the average delivery time is 24.16 minutes. The improvement of this number could also boost the rating, as people tend to be more generous when the service is fast and reliable."
   ]
  },
  {
   "cell_type": "code",
   "execution_count": 43,
   "id": "1121b85f",
   "metadata": {},
   "outputs": [],
   "source": [
    "#Lets Find the top 5 most frequent customers."
   ]
  },
  {
   "cell_type": "code",
   "execution_count": 44,
   "id": "b7cf7cb1",
   "metadata": {},
   "outputs": [
    {
     "data": {
      "text/plain": [
       "52832     13\n",
       "47440     10\n",
       "83287      9\n",
       "250494     8\n",
       "65009      7\n",
       "Name: customer_id, dtype: int64"
      ]
     },
     "execution_count": 44,
     "metadata": {},
     "output_type": "execute_result"
    }
   ],
   "source": [
    "data1['customer_id'].value_counts().head()"
   ]
  },
  {
   "cell_type": "markdown",
   "id": "ce7edede",
   "metadata": {},
   "source": [
    "Observation#11: These 5 customer ID represent the 5 most frequent customers. Therefore, these are the customers that need to be rewarded."
   ]
  },
  {
   "cell_type": "code",
   "execution_count": 45,
   "id": "d81bd0ad",
   "metadata": {},
   "outputs": [],
   "source": [
    "#Multivariate Analysis of the Data"
   ]
  },
  {
   "cell_type": "markdown",
   "id": "34246357",
   "metadata": {},
   "source": [
    "Answer 12"
   ]
  },
  {
   "cell_type": "markdown",
   "id": "4ec9aefd",
   "metadata": {},
   "source": [
    "Cuisine vs Cost of the order"
   ]
  },
  {
   "cell_type": "code",
   "execution_count": 46,
   "id": "b47770f5",
   "metadata": {},
   "outputs": [],
   "source": [
    "#How do the cuisine type and the cost of the order relates"
   ]
  },
  {
   "cell_type": "code",
   "execution_count": 47,
   "id": "5c32f26a",
   "metadata": {},
   "outputs": [
    {
     "data": {
      "image/png": "[encoded data removed]",
      "text/plain": [
       "<Figure size 1080x504 with 1 Axes>"
      ]
     },
     "metadata": {
      "needs_background": "light"
     },
     "output_type": "display_data"
    }
   ],
   "source": [
    "plt.figure(figsize=(15,7))\n",
    "sns.boxplot(x= 'cuisine_type', y= 'cost_of_the_order', data=data1, palette= 'PuBu')\n",
    "plt.xticks(rotation= 50)\n",
    "plt.show()"
   ]
  },
  {
   "cell_type": "markdown",
   "id": "8bca9b5d",
   "metadata": {},
   "source": [
    "Obeservation#12.1: The mediterranean cusine type has the most expensive item in the menu, its menu seems to have many outliers in term of price. The most expensive item is above 35 dollars and it is in the mediterranean restaurant cuisine type."
   ]
  },
  {
   "cell_type": "code",
   "execution_count": 48,
   "id": "67346e1f",
   "metadata": {},
   "outputs": [],
   "source": [
    "#How the type of cuisine relates to the food preparation time"
   ]
  },
  {
   "cell_type": "code",
   "execution_count": 49,
   "id": "6596f6de",
   "metadata": {
    "scrolled": true
   },
   "outputs": [
    {
     "data": {
      "image/png": "[encoded data removed]",
      "text/plain": [
       "<Figure size 1080x504 with 1 Axes>"
      ]
     },
     "metadata": {
      "needs_background": "light"
     },
     "output_type": "display_data"
    }
   ],
   "source": [
    "plt.figure(figsize=(15,7))\n",
    "sns.boxplot(x= 'cuisine_type', y= 'food_preparation_time', data=data1, palette= 'PuBu')\n",
    "plt.xticks(rotation= 50)\n",
    "plt.show()"
   ]
  },
  {
   "cell_type": "markdown",
   "id": "6f79069a",
   "metadata": {},
   "source": [
    "Observation#12.2: Most cuisine type seem to be taking about 35 minutes to be prepared. the average between every cuisine type preparation time vary. The amelioration of these times could also improve the customer service."
   ]
  },
  {
   "cell_type": "code",
   "execution_count": 50,
   "id": "afb6bd89",
   "metadata": {},
   "outputs": [],
   "source": [
    "#Lets find out the relationship between the day of the week and delivery time"
   ]
  },
  {
   "cell_type": "code",
   "execution_count": 51,
   "id": "ec3578fd",
   "metadata": {},
   "outputs": [
    {
     "data": {
      "image/png": "[encoded data removed]",
      "text/plain": [
       "<Figure size 1080x504 with 1 Axes>"
      ]
     },
     "metadata": {
      "needs_background": "light"
     },
     "output_type": "display_data"
    }
   ],
   "source": [
    "plt.figure(figsize=(15,7))\n",
    "sns.boxplot(x= 'day_of_the_week', y= 'delivery_time', data=data1, palette= 'PuBu')\n",
    "plt.xticks(rotation=60)\n",
    "plt.show()"
   ]
  },
  {
   "cell_type": "markdown",
   "id": "7a7c631c",
   "metadata": {},
   "source": [
    "Observation#12.3: The delivery takes longer during weekday than weekend. this could be due to the week day traffic."
   ]
  },
  {
   "cell_type": "code",
   "execution_count": 52,
   "id": "85547454",
   "metadata": {},
   "outputs": [],
   "source": [
    "#Lets find the revenue made by each restaurant"
   ]
  },
  {
   "cell_type": "code",
   "execution_count": 53,
   "id": "6d601747",
   "metadata": {},
   "outputs": [
    {
     "data": {
      "text/plain": [
       "restaurant_name\n",
       "Shake Shack                   3579.53\n",
       "The Meatball Shop             2145.21\n",
       "Blue Ribbon Sushi             1903.95\n",
       "Blue Ribbon Fried Chicken     1662.29\n",
       "Parm                          1112.76\n",
       "                               ...   \n",
       "Market Table                     6.79\n",
       "Wa Jeal                          6.74\n",
       "Cipriani Le Specialita           5.92\n",
       "Big Wong Restaurant _¤¾Ñ¼       5.92\n",
       "Hunan Manor                      5.72\n",
       "Name: cost_of_the_order, Length: 178, dtype: float64"
      ]
     },
     "execution_count": 53,
     "metadata": {},
     "output_type": "execute_result"
    }
   ],
   "source": [
    "data1.groupby([\"restaurant_name\"])[\"cost_of_the_order\"].sum().sort_values(ascending = False)"
   ]
  },
  {
   "cell_type": "markdown",
   "id": "e8f9caba",
   "metadata": {},
   "source": [
    "Observation#12.4: Shake shack makes the most revenue out of all the restaurants. Shake shack, The Meatball shop, Blue Ribbon Sushi, Blue ribbon Fried Chicken, and Parm Are the top restaurants in term of revenue. Market table, Wa Jeal, Cipriani Le Specialita, Big wong Restaurant, and Hunan Manor are the restaurants that make the least and should consider big changes to boost their sales."
   ]
  },
  {
   "cell_type": "markdown",
   "id": "b4c9689d",
   "metadata": {},
   "source": [
    "Rating vs Delivery time"
   ]
  },
  {
   "cell_type": "code",
   "execution_count": 54,
   "id": "494438d5",
   "metadata": {},
   "outputs": [
    {
     "data": {
      "image/png": "[encoded data removed]",
      "text/plain": [
       "<Figure size 1080x504 with 1 Axes>"
      ]
     },
     "metadata": {
      "needs_background": "light"
     },
     "output_type": "display_data"
    }
   ],
   "source": [
    "plt.figure(figsize=(15,7))\n",
    "sns.pointplot(x= \"rating\", y= \"delivery_time\", data= data1)\n",
    "plt.show()"
   ]
  },
  {
   "cell_type": "markdown",
   "id": "bf5455c7",
   "metadata": {},
   "source": [
    "Observation#12.5: Customers give better ratings when the food is delivered under 25 minutes. A larger number of customers seems to not care when the food arrives within 25 minutes."
   ]
  },
  {
   "cell_type": "markdown",
   "id": "41feb8ce",
   "metadata": {},
   "source": [
    "Rating vs Cost of the order"
   ]
  },
  {
   "cell_type": "code",
   "execution_count": 55,
   "id": "b66f2e2f",
   "metadata": {},
   "outputs": [
    {
     "data": {
      "image/png": "[encoded data removed]",
      "text/plain": [
       "<Figure size 1080x504 with 1 Axes>"
      ]
     },
     "metadata": {
      "needs_background": "light"
     },
     "output_type": "display_data"
    }
   ],
   "source": [
    "plt.figure(figsize=(15, 7))\n",
    "sns.pointplot(x= 'rating', y=\"cost_of_the_order\", data=data1)\n",
    "plt.show()"
   ]
  },
  {
   "cell_type": "markdown",
   "id": "f5af6a38",
   "metadata": {},
   "source": [
    "Observation#12.6: Customers rating seems to be higher with the price. The relation between rating and pricing should not really matter if the service is fast and reliable."
   ]
  },
  {
   "cell_type": "markdown",
   "id": "7c9b10a1",
   "metadata": {},
   "source": [
    "Correlation among variables"
   ]
  },
  {
   "cell_type": "code",
   "execution_count": 56,
   "id": "39def4b7",
   "metadata": {},
   "outputs": [
    {
     "data": {
      "image/png": "[encoded data removed]",
      "text/plain": [
       "<Figure size 1080x504 with 2 Axes>"
      ]
     },
     "metadata": {
      "needs_background": "light"
     },
     "output_type": "display_data"
    }
   ],
   "source": [
    "#Heatmap\n",
    "corr = ['cost_of_the_order', 'food_preparation_time', 'delivery_time']\n",
    "plt.figure(figsize=(15,7))\n",
    "sns.heatmap(data1[corr].corr(), annot=True, vmin=-1, vmax=1, fmt='.2f', cmap='magma')\n",
    "plt.show()"
   ]
  },
  {
   "cell_type": "markdown",
   "id": "56f85ae1",
   "metadata": {},
   "source": [
    "Observation#12.7: There is a small negative correlation between cost of order and delivery time. As one increase the other should slightly decrease."
   ]
  },
  {
   "cell_type": "markdown",
   "id": "0221af3f",
   "metadata": {},
   "source": [
    "Question 13"
   ]
  },
  {
   "cell_type": "code",
   "execution_count": 57,
   "id": "f65914a3",
   "metadata": {},
   "outputs": [],
   "source": [
    "data1_rated = data1[data1['rating'] != 'Not given'].copy()"
   ]
  },
  {
   "cell_type": "code",
   "execution_count": 58,
   "id": "2dfbfb47",
   "metadata": {},
   "outputs": [],
   "source": [
    "data1_rated['rating'] = data1_rated.rating.astype('str').astype(\"int\")"
   ]
  },
  {
   "cell_type": "code",
   "execution_count": 59,
   "id": "4edf33a5",
   "metadata": {},
   "outputs": [
    {
     "data": {
      "text/html": [
       "<div>\n",
       "<style scoped>\n",
       "    .dataframe tbody tr th:only-of-type {\n",
       "        vertical-align: middle;\n",
       "    }\n",
       "\n",
       "    .dataframe tbody tr th {\n",
       "        vertical-align: top;\n",
       "    }\n",
       "\n",
       "    .dataframe thead th {\n",
       "        text-align: right;\n",
       "    }\n",
       "</style>\n",
       "<table border=\"1\" class=\"dataframe\">\n",
       "  <thead>\n",
       "    <tr style=\"text-align: right;\">\n",
       "      <th></th>\n",
       "      <th>restaurant_name</th>\n",
       "      <th>rating</th>\n",
       "    </tr>\n",
       "  </thead>\n",
       "  <tbody>\n",
       "    <tr>\n",
       "      <th>0</th>\n",
       "      <td>Shake Shack</td>\n",
       "      <td>133</td>\n",
       "    </tr>\n",
       "    <tr>\n",
       "      <th>1</th>\n",
       "      <td>The Meatball Shop</td>\n",
       "      <td>84</td>\n",
       "    </tr>\n",
       "    <tr>\n",
       "      <th>2</th>\n",
       "      <td>Blue Ribbon Sushi</td>\n",
       "      <td>73</td>\n",
       "    </tr>\n",
       "    <tr>\n",
       "      <th>3</th>\n",
       "      <td>Blue Ribbon Fried Chicken</td>\n",
       "      <td>64</td>\n",
       "    </tr>\n",
       "    <tr>\n",
       "      <th>4</th>\n",
       "      <td>RedFarm Broadway</td>\n",
       "      <td>41</td>\n",
       "    </tr>\n",
       "  </tbody>\n",
       "</table>\n",
       "</div>"
      ],
      "text/plain": [
       "             restaurant_name  rating\n",
       "0                Shake Shack     133\n",
       "1          The Meatball Shop      84\n",
       "2          Blue Ribbon Sushi      73\n",
       "3  Blue Ribbon Fried Chicken      64\n",
       "4           RedFarm Broadway      41"
      ]
     },
     "execution_count": 59,
     "metadata": {},
     "output_type": "execute_result"
    }
   ],
   "source": [
    "data1_rating_count = data1_rated.groupby(['restaurant_name'])['rating'].count().sort_values(ascending = False).reset_index()\n",
    "data1_rating_count.head()"
   ]
  },
  {
   "cell_type": "code",
   "execution_count": 60,
   "id": "8c468cb5",
   "metadata": {},
   "outputs": [],
   "source": [
    "rest_names = data1_rating_count[data1_rating_count['rating']>50]['restaurant_name']"
   ]
  },
  {
   "cell_type": "code",
   "execution_count": 61,
   "id": "9386e3b2",
   "metadata": {},
   "outputs": [],
   "source": [
    "data1_mean4 = data1_rated[data1_rated['restaurant_name'].isin(rest_names)]"
   ]
  },
  {
   "cell_type": "code",
   "execution_count": 62,
   "id": "54d9fcad",
   "metadata": {
    "scrolled": true
   },
   "outputs": [
    {
     "data": {
      "text/html": [
       "<div>\n",
       "<style scoped>\n",
       "    .dataframe tbody tr th:only-of-type {\n",
       "        vertical-align: middle;\n",
       "    }\n",
       "\n",
       "    .dataframe tbody tr th {\n",
       "        vertical-align: top;\n",
       "    }\n",
       "\n",
       "    .dataframe thead th {\n",
       "        text-align: right;\n",
       "    }\n",
       "</style>\n",
       "<table border=\"1\" class=\"dataframe\">\n",
       "  <thead>\n",
       "    <tr style=\"text-align: right;\">\n",
       "      <th></th>\n",
       "      <th>restaurant_name</th>\n",
       "      <th>rating</th>\n",
       "    </tr>\n",
       "  </thead>\n",
       "  <tbody>\n",
       "    <tr>\n",
       "      <th>0</th>\n",
       "      <td>The Meatball Shop</td>\n",
       "      <td>4.511905</td>\n",
       "    </tr>\n",
       "    <tr>\n",
       "      <th>1</th>\n",
       "      <td>Blue Ribbon Fried Chicken</td>\n",
       "      <td>4.328125</td>\n",
       "    </tr>\n",
       "    <tr>\n",
       "      <th>2</th>\n",
       "      <td>Shake Shack</td>\n",
       "      <td>4.278195</td>\n",
       "    </tr>\n",
       "    <tr>\n",
       "      <th>3</th>\n",
       "      <td>Blue Ribbon Sushi</td>\n",
       "      <td>4.219178</td>\n",
       "    </tr>\n",
       "  </tbody>\n",
       "</table>\n",
       "</div>"
      ],
      "text/plain": [
       "             restaurant_name    rating\n",
       "0          The Meatball Shop  4.511905\n",
       "1  Blue Ribbon Fried Chicken  4.328125\n",
       "2                Shake Shack  4.278195\n",
       "3          Blue Ribbon Sushi  4.219178"
      ]
     },
     "execution_count": 62,
     "metadata": {},
     "output_type": "execute_result"
    }
   ],
   "source": [
    "data1_mean4.groupby(['restaurant_name'])['rating'].mean().sort_values(ascending= False).reset_index().dropna()"
   ]
  },
  {
   "cell_type": "markdown",
   "id": "df1f76d9",
   "metadata": {},
   "source": [
    "Observation#13: The advertisement project will only concern 4 restaurants. The advertisement project should be extend and not be given on rating bases, the restaurants that have the least ratings should be advised on their services and be given a positive advertisement campain."
   ]
  },
  {
   "cell_type": "markdown",
   "id": "2ca4b8f4",
   "metadata": {},
   "source": [
    "Question 14"
   ]
  },
  {
   "cell_type": "code",
   "execution_count": 63,
   "id": "89fff9bd",
   "metadata": {},
   "outputs": [],
   "source": [
    "#Lets set a function to determine the revenue and compute the column Revenue\n",
    "def compute_revenue(x):\n",
    "    if x > 20:\n",
    "        return x*0.25\n",
    "    elif x>5:\n",
    "        return x*0.15\n",
    "    else:\n",
    "        return x*0\n",
    "data1['Revenue'] = data1['cost_of_the_order'].apply(compute_revenue)"
   ]
  },
  {
   "cell_type": "code",
   "execution_count": 64,
   "id": "9b5db137",
   "metadata": {},
   "outputs": [
    {
     "data": {
      "text/html": [
       "<div>\n",
       "<style scoped>\n",
       "    .dataframe tbody tr th:only-of-type {\n",
       "        vertical-align: middle;\n",
       "    }\n",
       "\n",
       "    .dataframe tbody tr th {\n",
       "        vertical-align: top;\n",
       "    }\n",
       "\n",
       "    .dataframe thead th {\n",
       "        text-align: right;\n",
       "    }\n",
       "</style>\n",
       "<table border=\"1\" class=\"dataframe\">\n",
       "  <thead>\n",
       "    <tr style=\"text-align: right;\">\n",
       "      <th></th>\n",
       "      <th>order_id</th>\n",
       "      <th>customer_id</th>\n",
       "      <th>restaurant_name</th>\n",
       "      <th>cuisine_type</th>\n",
       "      <th>cost_of_the_order</th>\n",
       "      <th>day_of_the_week</th>\n",
       "      <th>rating</th>\n",
       "      <th>food_preparation_time</th>\n",
       "      <th>delivery_time</th>\n",
       "      <th>Revenue</th>\n",
       "    </tr>\n",
       "  </thead>\n",
       "  <tbody>\n",
       "    <tr>\n",
       "      <th>0</th>\n",
       "      <td>1477147</td>\n",
       "      <td>337525</td>\n",
       "      <td>Hangawi</td>\n",
       "      <td>Korean</td>\n",
       "      <td>30.75</td>\n",
       "      <td>Weekend</td>\n",
       "      <td>Not given</td>\n",
       "      <td>25</td>\n",
       "      <td>20</td>\n",
       "      <td>7.6875</td>\n",
       "    </tr>\n",
       "    <tr>\n",
       "      <th>1</th>\n",
       "      <td>1477685</td>\n",
       "      <td>358141</td>\n",
       "      <td>Blue Ribbon Sushi Izakaya</td>\n",
       "      <td>Japanese</td>\n",
       "      <td>12.08</td>\n",
       "      <td>Weekend</td>\n",
       "      <td>Not given</td>\n",
       "      <td>25</td>\n",
       "      <td>23</td>\n",
       "      <td>1.8120</td>\n",
       "    </tr>\n",
       "    <tr>\n",
       "      <th>2</th>\n",
       "      <td>1477070</td>\n",
       "      <td>66393</td>\n",
       "      <td>Cafe Habana</td>\n",
       "      <td>Mexican</td>\n",
       "      <td>12.23</td>\n",
       "      <td>Weekday</td>\n",
       "      <td>5</td>\n",
       "      <td>23</td>\n",
       "      <td>28</td>\n",
       "      <td>1.8345</td>\n",
       "    </tr>\n",
       "    <tr>\n",
       "      <th>3</th>\n",
       "      <td>1477334</td>\n",
       "      <td>106968</td>\n",
       "      <td>Blue Ribbon Fried Chicken</td>\n",
       "      <td>American</td>\n",
       "      <td>29.20</td>\n",
       "      <td>Weekend</td>\n",
       "      <td>3</td>\n",
       "      <td>25</td>\n",
       "      <td>15</td>\n",
       "      <td>7.3000</td>\n",
       "    </tr>\n",
       "    <tr>\n",
       "      <th>4</th>\n",
       "      <td>1478249</td>\n",
       "      <td>76942</td>\n",
       "      <td>Dirty Bird to Go</td>\n",
       "      <td>American</td>\n",
       "      <td>11.59</td>\n",
       "      <td>Weekday</td>\n",
       "      <td>4</td>\n",
       "      <td>25</td>\n",
       "      <td>24</td>\n",
       "      <td>1.7385</td>\n",
       "    </tr>\n",
       "  </tbody>\n",
       "</table>\n",
       "</div>"
      ],
      "text/plain": [
       "   order_id  customer_id            restaurant_name cuisine_type  \\\n",
       "0   1477147       337525                    Hangawi       Korean   \n",
       "1   1477685       358141  Blue Ribbon Sushi Izakaya     Japanese   \n",
       "2   1477070        66393                Cafe Habana      Mexican   \n",
       "3   1477334       106968  Blue Ribbon Fried Chicken     American   \n",
       "4   1478249        76942           Dirty Bird to Go     American   \n",
       "\n",
       "   cost_of_the_order day_of_the_week     rating  food_preparation_time  \\\n",
       "0              30.75         Weekend  Not given                     25   \n",
       "1              12.08         Weekend  Not given                     25   \n",
       "2              12.23         Weekday          5                     23   \n",
       "3              29.20         Weekend          3                     25   \n",
       "4              11.59         Weekday          4                     25   \n",
       "\n",
       "   delivery_time  Revenue  \n",
       "0             20   7.6875  \n",
       "1             23   1.8120  \n",
       "2             28   1.8345  \n",
       "3             15   7.3000  \n",
       "4             24   1.7385  "
      ]
     },
     "execution_count": 64,
     "metadata": {},
     "output_type": "execute_result"
    }
   ],
   "source": [
    "data1.head()"
   ]
  },
  {
   "cell_type": "code",
   "execution_count": 65,
   "id": "e97b58a8",
   "metadata": {},
   "outputs": [
    {
     "name": "stdout",
     "output_type": "stream",
     "text": [
      "The revenue is around 6166.3 dollars\n"
     ]
    }
   ],
   "source": [
    "#Lets get the total Revenue\n",
    "total_revenue = data1['Revenue'].sum()\n",
    "print('The revenue is around', round(total_revenue, 2), 'dollars')"
   ]
  },
  {
   "cell_type": "code",
   "execution_count": 66,
   "id": "0c95a3e9",
   "metadata": {},
   "outputs": [
    {
     "data": {
      "text/html": [
       "<div>\n",
       "<style scoped>\n",
       "    .dataframe tbody tr th:only-of-type {\n",
       "        vertical-align: middle;\n",
       "    }\n",
       "\n",
       "    .dataframe tbody tr th {\n",
       "        vertical-align: top;\n",
       "    }\n",
       "\n",
       "    .dataframe thead th {\n",
       "        text-align: right;\n",
       "    }\n",
       "</style>\n",
       "<table border=\"1\" class=\"dataframe\">\n",
       "  <thead>\n",
       "    <tr style=\"text-align: right;\">\n",
       "      <th></th>\n",
       "      <th>order_id</th>\n",
       "      <th>customer_id</th>\n",
       "      <th>cost_of_the_order</th>\n",
       "      <th>food_preparation_time</th>\n",
       "      <th>delivery_time</th>\n",
       "      <th>Revenue</th>\n",
       "    </tr>\n",
       "  </thead>\n",
       "  <tbody>\n",
       "    <tr>\n",
       "      <th>count</th>\n",
       "      <td>1.898000e+03</td>\n",
       "      <td>1898.000000</td>\n",
       "      <td>1898.000000</td>\n",
       "      <td>1898.000000</td>\n",
       "      <td>1898.000000</td>\n",
       "      <td>1898.000000</td>\n",
       "    </tr>\n",
       "    <tr>\n",
       "      <th>mean</th>\n",
       "      <td>1.477496e+06</td>\n",
       "      <td>171168.478398</td>\n",
       "      <td>16.498851</td>\n",
       "      <td>27.371970</td>\n",
       "      <td>24.161749</td>\n",
       "      <td>3.248842</td>\n",
       "    </tr>\n",
       "    <tr>\n",
       "      <th>std</th>\n",
       "      <td>5.480497e+02</td>\n",
       "      <td>113698.139743</td>\n",
       "      <td>7.483812</td>\n",
       "      <td>4.632481</td>\n",
       "      <td>4.972637</td>\n",
       "      <td>2.295598</td>\n",
       "    </tr>\n",
       "    <tr>\n",
       "      <th>min</th>\n",
       "      <td>1.476547e+06</td>\n",
       "      <td>1311.000000</td>\n",
       "      <td>4.470000</td>\n",
       "      <td>20.000000</td>\n",
       "      <td>15.000000</td>\n",
       "      <td>0.000000</td>\n",
       "    </tr>\n",
       "    <tr>\n",
       "      <th>25%</th>\n",
       "      <td>1.477021e+06</td>\n",
       "      <td>77787.750000</td>\n",
       "      <td>12.080000</td>\n",
       "      <td>23.000000</td>\n",
       "      <td>20.000000</td>\n",
       "      <td>1.812000</td>\n",
       "    </tr>\n",
       "    <tr>\n",
       "      <th>50%</th>\n",
       "      <td>1.477496e+06</td>\n",
       "      <td>128600.000000</td>\n",
       "      <td>14.140000</td>\n",
       "      <td>27.000000</td>\n",
       "      <td>25.000000</td>\n",
       "      <td>2.121000</td>\n",
       "    </tr>\n",
       "    <tr>\n",
       "      <th>75%</th>\n",
       "      <td>1.477970e+06</td>\n",
       "      <td>270525.000000</td>\n",
       "      <td>22.297500</td>\n",
       "      <td>31.000000</td>\n",
       "      <td>28.000000</td>\n",
       "      <td>5.574375</td>\n",
       "    </tr>\n",
       "    <tr>\n",
       "      <th>max</th>\n",
       "      <td>1.478444e+06</td>\n",
       "      <td>405334.000000</td>\n",
       "      <td>35.410000</td>\n",
       "      <td>35.000000</td>\n",
       "      <td>33.000000</td>\n",
       "      <td>8.852500</td>\n",
       "    </tr>\n",
       "  </tbody>\n",
       "</table>\n",
       "</div>"
      ],
      "text/plain": [
       "           order_id    customer_id  cost_of_the_order  food_preparation_time  \\\n",
       "count  1.898000e+03    1898.000000        1898.000000            1898.000000   \n",
       "mean   1.477496e+06  171168.478398          16.498851              27.371970   \n",
       "std    5.480497e+02  113698.139743           7.483812               4.632481   \n",
       "min    1.476547e+06    1311.000000           4.470000              20.000000   \n",
       "25%    1.477021e+06   77787.750000          12.080000              23.000000   \n",
       "50%    1.477496e+06  128600.000000          14.140000              27.000000   \n",
       "75%    1.477970e+06  270525.000000          22.297500              31.000000   \n",
       "max    1.478444e+06  405334.000000          35.410000              35.000000   \n",
       "\n",
       "       delivery_time      Revenue  \n",
       "count    1898.000000  1898.000000  \n",
       "mean       24.161749     3.248842  \n",
       "std         4.972637     2.295598  \n",
       "min        15.000000     0.000000  \n",
       "25%        20.000000     1.812000  \n",
       "50%        25.000000     2.121000  \n",
       "75%        28.000000     5.574375  \n",
       "max        33.000000     8.852500  "
      ]
     },
     "execution_count": 66,
     "metadata": {},
     "output_type": "execute_result"
    }
   ],
   "source": [
    "data1.describe()"
   ]
  },
  {
   "cell_type": "markdown",
   "id": "e4a60cb7",
   "metadata": {},
   "source": [
    "Observation#14: The total revenue made by the Foodhub is 6166.3 dollars. The average revenue is 3.24 dollars.the maximum revenue made is 8.85 dollars."
   ]
  },
  {
   "cell_type": "markdown",
   "id": "cd55c3bd",
   "metadata": {},
   "source": [
    "Question 15"
   ]
  },
  {
   "cell_type": "code",
   "execution_count": 67,
   "id": "7cdb28b9",
   "metadata": {},
   "outputs": [],
   "source": [
    "#Lets calculate total delivery time and add a new column to the data frame for it\n",
    "data1['total_time'] = data1['food_preparation_time'] + data1['delivery_time']"
   ]
  },
  {
   "cell_type": "code",
   "execution_count": 68,
   "id": "724958df",
   "metadata": {},
   "outputs": [
    {
     "data": {
      "text/html": [
       "<div>\n",
       "<style scoped>\n",
       "    .dataframe tbody tr th:only-of-type {\n",
       "        vertical-align: middle;\n",
       "    }\n",
       "\n",
       "    .dataframe tbody tr th {\n",
       "        vertical-align: top;\n",
       "    }\n",
       "\n",
       "    .dataframe thead th {\n",
       "        text-align: right;\n",
       "    }\n",
       "</style>\n",
       "<table border=\"1\" class=\"dataframe\">\n",
       "  <thead>\n",
       "    <tr style=\"text-align: right;\">\n",
       "      <th></th>\n",
       "      <th>order_id</th>\n",
       "      <th>customer_id</th>\n",
       "      <th>restaurant_name</th>\n",
       "      <th>cuisine_type</th>\n",
       "      <th>cost_of_the_order</th>\n",
       "      <th>day_of_the_week</th>\n",
       "      <th>rating</th>\n",
       "      <th>food_preparation_time</th>\n",
       "      <th>delivery_time</th>\n",
       "      <th>Revenue</th>\n",
       "      <th>total_time</th>\n",
       "    </tr>\n",
       "  </thead>\n",
       "  <tbody>\n",
       "    <tr>\n",
       "      <th>0</th>\n",
       "      <td>1477147</td>\n",
       "      <td>337525</td>\n",
       "      <td>Hangawi</td>\n",
       "      <td>Korean</td>\n",
       "      <td>30.75</td>\n",
       "      <td>Weekend</td>\n",
       "      <td>Not given</td>\n",
       "      <td>25</td>\n",
       "      <td>20</td>\n",
       "      <td>7.6875</td>\n",
       "      <td>45</td>\n",
       "    </tr>\n",
       "    <tr>\n",
       "      <th>1</th>\n",
       "      <td>1477685</td>\n",
       "      <td>358141</td>\n",
       "      <td>Blue Ribbon Sushi Izakaya</td>\n",
       "      <td>Japanese</td>\n",
       "      <td>12.08</td>\n",
       "      <td>Weekend</td>\n",
       "      <td>Not given</td>\n",
       "      <td>25</td>\n",
       "      <td>23</td>\n",
       "      <td>1.8120</td>\n",
       "      <td>48</td>\n",
       "    </tr>\n",
       "    <tr>\n",
       "      <th>2</th>\n",
       "      <td>1477070</td>\n",
       "      <td>66393</td>\n",
       "      <td>Cafe Habana</td>\n",
       "      <td>Mexican</td>\n",
       "      <td>12.23</td>\n",
       "      <td>Weekday</td>\n",
       "      <td>5</td>\n",
       "      <td>23</td>\n",
       "      <td>28</td>\n",
       "      <td>1.8345</td>\n",
       "      <td>51</td>\n",
       "    </tr>\n",
       "    <tr>\n",
       "      <th>3</th>\n",
       "      <td>1477334</td>\n",
       "      <td>106968</td>\n",
       "      <td>Blue Ribbon Fried Chicken</td>\n",
       "      <td>American</td>\n",
       "      <td>29.20</td>\n",
       "      <td>Weekend</td>\n",
       "      <td>3</td>\n",
       "      <td>25</td>\n",
       "      <td>15</td>\n",
       "      <td>7.3000</td>\n",
       "      <td>40</td>\n",
       "    </tr>\n",
       "    <tr>\n",
       "      <th>4</th>\n",
       "      <td>1478249</td>\n",
       "      <td>76942</td>\n",
       "      <td>Dirty Bird to Go</td>\n",
       "      <td>American</td>\n",
       "      <td>11.59</td>\n",
       "      <td>Weekday</td>\n",
       "      <td>4</td>\n",
       "      <td>25</td>\n",
       "      <td>24</td>\n",
       "      <td>1.7385</td>\n",
       "      <td>49</td>\n",
       "    </tr>\n",
       "  </tbody>\n",
       "</table>\n",
       "</div>"
      ],
      "text/plain": [
       "   order_id  customer_id            restaurant_name cuisine_type  \\\n",
       "0   1477147       337525                    Hangawi       Korean   \n",
       "1   1477685       358141  Blue Ribbon Sushi Izakaya     Japanese   \n",
       "2   1477070        66393                Cafe Habana      Mexican   \n",
       "3   1477334       106968  Blue Ribbon Fried Chicken     American   \n",
       "4   1478249        76942           Dirty Bird to Go     American   \n",
       "\n",
       "   cost_of_the_order day_of_the_week     rating  food_preparation_time  \\\n",
       "0              30.75         Weekend  Not given                     25   \n",
       "1              12.08         Weekend  Not given                     25   \n",
       "2              12.23         Weekday          5                     23   \n",
       "3              29.20         Weekend          3                     25   \n",
       "4              11.59         Weekday          4                     25   \n",
       "\n",
       "   delivery_time  Revenue  total_time  \n",
       "0             20   7.6875          45  \n",
       "1             23   1.8120          48  \n",
       "2             28   1.8345          51  \n",
       "3             15   7.3000          40  \n",
       "4             24   1.7385          49  "
      ]
     },
     "execution_count": 68,
     "metadata": {},
     "output_type": "execute_result"
    }
   ],
   "source": [
    "data1.head()"
   ]
  },
  {
   "cell_type": "code",
   "execution_count": 69,
   "id": "70918382",
   "metadata": {},
   "outputs": [
    {
     "name": "stdout",
     "output_type": "stream",
     "text": [
      "the number of total orders that take 60 minutes total to deliver is: 200\n"
     ]
    }
   ],
   "source": [
    "data1_time_greater_than_60 = data1[data1['total_time']>60]\n",
    "print('the number of total orders that take 60 minutes total to deliver is:', data1_time_greater_than_60 .shape[0])"
   ]
  },
  {
   "cell_type": "code",
   "execution_count": 70,
   "id": "5103f556",
   "metadata": {},
   "outputs": [
    {
     "name": "stdout",
     "output_type": "stream",
     "text": [
      "percentage of orders that take 60 minutes in total delivery time: 10.54 %\n"
     ]
    }
   ],
   "source": [
    "percentage_time = (data1_time_greater_than_60.shape[0] / data1.shape[0])*100\n",
    "print('percentage of orders that take 60 minutes in total delivery time:', round(percentage_time, 2), '%')"
   ]
  },
  {
   "cell_type": "markdown",
   "id": "89a2f818",
   "metadata": {},
   "source": [
    "Observation#15: 200 orders take 60 minutes to be delivered, which is 10.54% of the total order."
   ]
  },
  {
   "cell_type": "markdown",
   "id": "2158facf",
   "metadata": {},
   "source": [
    "Question 16"
   ]
  },
  {
   "cell_type": "code",
   "execution_count": 71,
   "id": "6ac1551b",
   "metadata": {},
   "outputs": [
    {
     "name": "stdout",
     "output_type": "stream",
     "text": [
      "<class 'pandas.core.frame.DataFrame'>\n",
      "RangeIndex: 1898 entries, 0 to 1897\n",
      "Data columns (total 11 columns):\n",
      " #   Column                 Non-Null Count  Dtype   \n",
      "---  ------                 --------------  -----   \n",
      " 0   order_id               1898 non-null   int64   \n",
      " 1   customer_id            1898 non-null   int64   \n",
      " 2   restaurant_name        1898 non-null   category\n",
      " 3   cuisine_type           1898 non-null   category\n",
      " 4   cost_of_the_order      1898 non-null   float64 \n",
      " 5   day_of_the_week        1898 non-null   category\n",
      " 6   rating                 1898 non-null   category\n",
      " 7   food_preparation_time  1898 non-null   int64   \n",
      " 8   delivery_time          1898 non-null   int64   \n",
      " 9   Revenue                1898 non-null   float64 \n",
      " 10  total_time             1898 non-null   int64   \n",
      "dtypes: category(4), float64(2), int64(5)\n",
      "memory usage: 119.6 KB\n"
     ]
    }
   ],
   "source": [
    "data1.info()"
   ]
  },
  {
   "cell_type": "code",
   "execution_count": 72,
   "id": "fbffaacd",
   "metadata": {},
   "outputs": [
    {
     "name": "stdout",
     "output_type": "stream",
     "text": [
      "The mean delivery time on weekdays is around 28 minutes\n"
     ]
    }
   ],
   "source": [
    "#The mean delivery time on weekdays\n",
    "\n",
    "print('The mean delivery time on weekdays is around', \n",
    "      round(data1[data1['day_of_the_week'] == 'Weekday']['delivery_time'].mean()),\n",
    "     'minutes')"
   ]
  },
  {
   "cell_type": "code",
   "execution_count": 73,
   "id": "c2efcaea",
   "metadata": {},
   "outputs": [
    {
     "name": "stdout",
     "output_type": "stream",
     "text": [
      "The mean delivery time on weekends is around 22 minutes\n"
     ]
    }
   ],
   "source": [
    "#The mean delivery time on weekends\n",
    "print('The mean delivery time on weekends is around', \n",
    "      round(data1[data1['day_of_the_week'] == 'Weekend']['delivery_time'].mean()),\n",
    "     'minutes')"
   ]
  },
  {
   "cell_type": "markdown",
   "id": "9e3528a7",
   "metadata": {},
   "source": [
    "Observation#16: The average delivery time on the weekend is 6 minutes less than the average on weekdays. this is due to the high traffic during weekdays."
   ]
  },
  {
   "cell_type": "markdown",
   "id": "cc76bff3",
   "metadata": {},
   "source": [
    "Conclusion and Recommendations:\n",
    "The restaurants that have high counts of orders, \n",
    "have the cuisine type the customers want and \n",
    "they also have a good average of cost for the \n",
    "order, they also have a good average when it comes\n",
    "to the food preparation time. These restaurants have \n",
    "a moderate to good sales, but they could be improved,\n",
    "by the advertisement and discounts. Discounts and \n",
    "advertisements could attract more customers as well as\n",
    "making the existing customers feel more welcome and appreciated.\n",
    "The restaurants That struggling with their sales could \n",
    "improve their menus, do some price adjustments to lower \n",
    "some of their pricing to attract customers. They could \n",
    "also get faster delivery personnel and faster people in their kitchens;\n",
    "this could lower the food preparation and delivery time.\n",
    "With these chances the orders and sales numbers could see some improvements.\n",
    "Also conducting more advertisements could attract more customers and the \n",
    "improvements in the service quality would make them stick around, \n",
    "which will increase the sales.\n"
   ]
  }
 ],
 "metadata": {
  "kernelspec": {
   "display_name": "Python 3",
   "language": "python",
   "name": "python3"
  },
  "language_info": {
   "codemirror_mode": {
    "name": "ipython",
    "version": 3
   },
   "file_extension": ".py",
   "mimetype": "text/x-python",
   "name": "python",
   "nbconvert_exporter": "python",
   "pygments_lexer": "ipython3",
   "version": "3.8.8"
  }
 },
 "nbformat": 4,
 "nbformat_minor": 5
}
